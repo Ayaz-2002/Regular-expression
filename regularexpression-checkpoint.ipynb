{
 "cells": [
  {
   "cell_type": "markdown",
   "id": "81134afe",
   "metadata": {},
   "source": [
    "# Question 1-Write a Python program to replace all occurrences of a space, comma, or dot with a colon.\n",
    "Sample Text-'Python Exercises, PHP exercises.'\n",
    "Expected Output:Python:Exercises::PHP:exercises:\n"
   ]
  },
  {
   "cell_type": "code",
   "execution_count": 1,
   "id": "19fbbea3",
   "metadata": {},
   "outputs": [
    {
     "name": "stdout",
     "output_type": "stream",
     "text": [
      "Python:Exercises::PHP:exercises:\n"
     ]
    }
   ],
   "source": [
    "def replace_characters(text):\n",
    "    replacements = [' ', ',', '.']\n",
    "    \n",
    "    for char in replacements:\n",
    "        text = text.replace(char, ':')\n",
    "    \n",
    "    return text\n",
    "\n",
    "sample_text = 'Python Exercises, PHP exercises.'\n",
    "result = replace_characters(sample_text)\n",
    "print(result)\n"
   ]
  },
  {
   "cell_type": "markdown",
   "id": "d63e8e0e",
   "metadata": {},
   "source": [
    "# Question 2-  Write a Python program to find all words starting with 'a' or 'e' in a given string.\n"
   ]
  },
  {
   "cell_type": "code",
   "execution_count": 2,
   "id": "c1eabe25",
   "metadata": {},
   "outputs": [
    {
     "name": "stdout",
     "output_type": "stream",
     "text": [
      "['Apple', 'and', 'elephant', 'are', 'animals', 'eagle']\n"
     ]
    }
   ],
   "source": [
    "import re\n",
    "\n",
    "def find_words_starting_with_a_or_e(input_string):\n",
    "    words = re.findall(r'\\b[aeAE]\\w+\\b', input_string)\n",
    "    return words\n",
    "\n",
    "# Test the function\n",
    "input_string = \"Apple and elephant are animals, while eagle is a bird.\"\n",
    "result = find_words_starting_with_a_or_e(input_string)\n",
    "print(result)\n"
   ]
  },
  {
   "cell_type": "markdown",
   "id": "04039177",
   "metadata": {},
   "source": [
    "# Question 3- Create a function inpython to find all words that are at least 4 characters long in a string.The use of the re.compile() method is mandatory.\n"
   ]
  },
  {
   "cell_type": "code",
   "execution_count": 3,
   "id": "28e58f39",
   "metadata": {},
   "outputs": [
    {
     "name": "stdout",
     "output_type": "stream",
     "text": [
      "['This', 'sample', 'string', 'with', 'some', 'long', 'words', 'like', 'apple', 'banana', 'orange']\n"
     ]
    }
   ],
   "source": [
    "import re\n",
    "\n",
    "def find_long_words(input_string):\n",
    "    pattern = re.compile(r'\\b\\w{4,}\\b')\n",
    "    long_words = pattern.findall(input_string)\n",
    "    return long_words\n",
    "\n",
    "# Test the function\n",
    "input_string = \"This is a sample string with some long words like apple, banana, and orange.\"\n",
    "result = find_long_words(input_string)\n",
    "print(result)\n"
   ]
  },
  {
   "cell_type": "markdown",
   "id": "6a8c2f6a",
   "metadata": {},
   "source": [
    "# Question 4-Create a function in python to find all three, four, and five character words in a string. The use of the re.compile() method is mandatory.\n"
   ]
  },
  {
   "cell_type": "code",
   "execution_count": 4,
   "id": "3a9d116e",
   "metadata": {},
   "outputs": [
    {
     "name": "stdout",
     "output_type": "stream",
     "text": [
      "['This', 'test', 'with', 'some', 'short', 'and', 'long', 'words']\n"
     ]
    }
   ],
   "source": [
    "import re\n",
    "\n",
    "def find_words_of_length(text):\n",
    "    pattern = re.compile(r'\\b\\w{3,5}\\b')\n",
    "    words = pattern.findall(text)\n",
    "    return words\n",
    "\n",
    "input_string = \"This is a test string with some short and long words.\"\n",
    "result = find_words_of_length(input_string)\n",
    "print(result)\n"
   ]
  },
  {
   "cell_type": "markdown",
   "id": "3b05f8ae",
   "metadata": {},
   "source": [
    "# Question 5- Create a function in Python to remove the parenthesis in a list of strings.The use of the re.compile() method is mandatory.\n",
    "Sample Text:[\"example (.com)\", \"hr@fliprobo (.com)\", \"github (.com)\", \"Hello (Data Science World)\", \"Data (Scientist)\"]\n",
    "Expected Output:\n",
    "example.com\n",
    "hr@fliprobo.com\n",
    "github.com\n",
    "Hello Data Science World\n",
    "Data Scientist\n"
   ]
  },
  {
   "cell_type": "code",
   "execution_count": 5,
   "id": "a55c93bd",
   "metadata": {},
   "outputs": [
    {
     "name": "stdout",
     "output_type": "stream",
     "text": [
      "example \n",
      "hr@fliprobo \n",
      "github \n",
      "Hello \n",
      "Data \n"
     ]
    }
   ],
   "source": [
    "import re\n",
    "\n",
    "def remove_parentheses(strings):\n",
    "    result = []\n",
    "    pattern = re.compile(r'\\([^)]*\\)')  # Regular expression to match anything inside parentheses\n",
    "    \n",
    "    for string in strings:\n",
    "        modified_string = re.sub(pattern, '', string)\n",
    "        result.append(modified_string)\n",
    "    \n",
    "    return result\n",
    "\n",
    "sample_text = [\"example (.com)\", \"hr@fliprobo (.com)\", \"github (.com)\", \"Hello (Data Science World)\", \"Data (Scientist)\"]\n",
    "output = remove_parentheses(sample_text)\n",
    "\n",
    "for item in output:\n",
    "    print(item)\n"
   ]
  },
  {
   "cell_type": "markdown",
   "id": "a3b8da38",
   "metadata": {},
   "source": [
    "# Question 7-Write a regular expression in Python to split a string into uppercase letters.\n",
    "Sample text: “ImportanceOfRegularExpressionsInPython”\n",
    "Expected Output:[‘Importance’, ‘Of’, ‘Regular’, ‘Expression’, ‘In’, ‘Python’]\n",
    "\n",
    "\n",
    "\n"
   ]
  },
  {
   "cell_type": "code",
   "execution_count": 22,
   "id": "ad59b6aa",
   "metadata": {},
   "outputs": [
    {
     "name": "stdout",
     "output_type": "stream",
     "text": [
      "['Importance', 'Of', 'Regular', 'Expressions', 'In', 'Python']\n"
     ]
    }
   ],
   "source": [
    "import re\n",
    "\n",
    "sample_text = \"ImportanceOfRegularExpressionsInPython\"\n",
    "result = re.findall('[A-Z][a-z]*', sample_text)\n",
    "print(result)\n"
   ]
  },
  {
   "cell_type": "markdown",
   "id": "a4a0886b",
   "metadata": {},
   "source": [
    "# Question 8- Create a function in python to insert spaces between words starting with numbers.\n",
    "Sample Text: “RegularExpression1IsAn2ImportantTopic3InPython\"\n",
    "Expected Output: RegularExpression1IsAn 2ImportantTopic 3InPython\n",
    " "
   ]
  },
  {
   "cell_type": "code",
   "execution_count": 23,
   "id": "53b67947",
   "metadata": {},
   "outputs": [
    {
     "name": "stdout",
     "output_type": "stream",
     "text": [
      "RegularExpression1 IsAn2 ImportantTopic3 InPython\n"
     ]
    }
   ],
   "source": [
    "import re\n",
    "\n",
    "def insert_spaces(text):\n",
    "    modified_text = re.sub(r'(\\d)([A-Za-z])', r'\\1 \\2', text)\n",
    "    return modified_text\n",
    "\n",
    "sample_text = \"RegularExpression1IsAn2ImportantTopic3InPython\"\n",
    "result = insert_spaces(sample_text)\n",
    "print(result)\n"
   ]
  },
  {
   "cell_type": "markdown",
   "id": "df481bd7",
   "metadata": {},
   "source": [
    "# Question 9- Create a function in python to insert spaces between words starting with capital letters or with numbers.\n",
    "Sample Text: “RegularExpression1IsAn2ImportantTopic3InPython\"\n",
    "Expected Output:RegularExpression 1 IsAn 2 ImportantTopic 3 InPython\n",
    "\n"
   ]
  },
  {
   "cell_type": "code",
   "execution_count": 24,
   "id": "520f3533",
   "metadata": {},
   "outputs": [
    {
     "name": "stdout",
     "output_type": "stream",
     "text": [
      "Regular Expression 1Is An 2Important Topic 3In Python\n"
     ]
    }
   ],
   "source": [
    "import re\n",
    "\n",
    "def insert_spaces(text):\n",
    "    result = re.sub(r'(?<=[a-z])([A-Z0-9])', r' \\1', text)\n",
    "    return result\n",
    "\n",
    "sample_text = \"RegularExpression1IsAn2ImportantTopic3InPython\"\n",
    "output = insert_spaces(sample_text)\n",
    "print(output)\n"
   ]
  },
  {
   "cell_type": "markdown",
   "id": "a3bbc97e",
   "metadata": {},
   "source": [
    "# Question 10- Write a python program to extract email address from the text stored in the text file using Regular Expression.\n",
    "Sample Text- Hello my name is Data Science and my email address is xyz@domain.com and alternate email address is xyz.abc@sdomain.domain.com. \n",
    "Please contact us at hr@fliprobo.com for further information. \n",
    "Expected Output:\n",
    "['xyz@domain.com', 'xyz.abc@sdomain.domain.com']\n",
    "['hr@fliprobo.com']\n",
    "\n",
    "Note- Store given sample text in the text file and then extract email addresses."
   ]
  },
  {
   "cell_type": "code",
   "execution_count": 25,
   "id": "1fdada24",
   "metadata": {},
   "outputs": [
    {
     "name": "stdout",
     "output_type": "stream",
     "text": [
      "File 'sample_text.txt' not found.\n"
     ]
    }
   ],
   "source": [
    "import re\n",
    "\n",
    "def extract_emails(text):\n",
    "    pattern = r'\\b[A-Za-z0-9._%+-]+@[A-Za-z0-9.-]+\\.[A-Z|a-z]{2,}\\b'\n",
    "    return re.findall(pattern, text)\n",
    "\n",
    "def main():\n",
    "    file_name = 'sample_text.txt'\n",
    "\n",
    "    try:\n",
    "        with open(file_name, 'r') as file:\n",
    "            text = file.read()\n",
    "            emails = extract_emails(text)\n",
    "\n",
    "            primary_emails = []\n",
    "            alternate_emails = []\n",
    "\n",
    "            for email in emails:\n",
    "                if 'alternate' in email:\n",
    "                    alternate_emails.append(email)\n",
    "                else:\n",
    "                    primary_emails.append(email)\n",
    "\n",
    "            print(\"Primary Email Addresses:\", primary_emails)\n",
    "            print(\"Alternate Email Addresses:\", alternate_emails)\n",
    "\n",
    "    except FileNotFoundError:\n",
    "        print(f\"File '{file_name}' not found.\")\n",
    "\n",
    "if __name__ == '__main__':\n",
    "    main()\n"
   ]
  },
  {
   "cell_type": "markdown",
   "id": "338abd0f",
   "metadata": {},
   "source": [
    "# Question 11- Write a Python program to match a string that contains only upper and lowercase letters, numbers, and underscores."
   ]
  },
  {
   "cell_type": "code",
   "execution_count": 26,
   "id": "bbfbe94e",
   "metadata": {},
   "outputs": [
    {
     "name": "stdout",
     "output_type": "stream",
     "text": [
      "'Hello_World123' is a valid string.\n",
      "'Python3' is a valid string.\n",
      "'invalid string!' is not a valid string.\n",
      "'hello123#' is not a valid string.\n",
      "'_underscore_' is a valid string.\n"
     ]
    }
   ],
   "source": [
    "import re\n",
    "\n",
    "def is_valid_string(s):\n",
    "    pattern = r'^[a-zA-Z0-9_]+$'\n",
    "    return re.match(pattern, s) is not None\n",
    "\n",
    "# Test the function\n",
    "test_strings = [\"Hello_World123\", \"Python3\", \"invalid string!\", \"hello123#\", \"_underscore_\"]\n",
    "for s in test_strings:\n",
    "    if is_valid_string(s):\n",
    "        print(f\"'{s}' is a valid string.\")\n",
    "    else:\n",
    "        print(f\"'{s}' is not a valid string.\")\n"
   ]
  },
  {
   "cell_type": "markdown",
   "id": "7169b295",
   "metadata": {},
   "source": [
    "# Question 12- Write a Python program where a string will start with a specific number. \n"
   ]
  },
  {
   "cell_type": "code",
   "execution_count": 10,
   "id": "56652abc",
   "metadata": {},
   "outputs": [
    {
     "name": "stdout",
     "output_type": "stream",
     "text": [
      "True\n",
      "False\n"
     ]
    }
   ],
   "source": [
    "def starts_with_number(string, number):\n",
    "    # Convert the number to a string for comparison\n",
    "    number_str = str(number)\n",
    "    \n",
    "    # Check if the string starts with the specified number\n",
    "    if string.startswith(number_str):\n",
    "        return True\n",
    "    else:\n",
    "        return False\n",
    "\n",
    "# Test cases\n",
    "string1 = \"12345Hello\"\n",
    "number1 = 123\n",
    "print(starts_with_number(string1, number1))  # Output: True\n",
    "\n",
    "string2 = \"56789World\"\n",
    "number2 = 123\n",
    "print(starts_with_number(string2, number2))  # Output: False\n"
   ]
  },
  {
   "cell_type": "markdown",
   "id": "4f279b53",
   "metadata": {},
   "source": [
    "# Question 13- Write a Python program to remove leading zeros from an IP address\n",
    "\n"
   ]
  },
  {
   "cell_type": "code",
   "execution_count": 11,
   "id": "9e59bfa0",
   "metadata": {},
   "outputs": [
    {
     "name": "stdout",
     "output_type": "stream",
     "text": [
      "Original IP: 192.168.001.001\n",
      "Cleaned IP: 192.168.1.1\n"
     ]
    }
   ],
   "source": [
    "def remove_leading_zeros(ip_address):\n",
    "    # Split the IP address into octets\n",
    "    octets = ip_address.split('.')\n",
    "    \n",
    "    # Remove leading zeros from each octet\n",
    "    cleaned_octets = [str(int(octet)) for octet in octets]\n",
    "    \n",
    "    # Join the cleaned octets to form the new IP address\n",
    "    cleaned_ip_address = '.'.join(cleaned_octets)\n",
    "    \n",
    "    return cleaned_ip_address\n",
    "\n",
    "# Test the function\n",
    "ip_with_zeros = \"192.168.001.001\"\n",
    "cleaned_ip = remove_leading_zeros(ip_with_zeros)\n",
    "print(\"Original IP:\", ip_with_zeros)\n",
    "print(\"Cleaned IP:\", cleaned_ip)\n"
   ]
  },
  {
   "cell_type": "markdown",
   "id": "ea4628d1",
   "metadata": {},
   "source": [
    "# Question 15- Write a Python program to search some literals strings in a string. \n",
    "Sample text : 'The quick brown fox jumps over the lazy dog.'\n",
    "Searched words : 'fox', 'dog', 'horse'\n"
   ]
  },
  {
   "cell_type": "code",
   "execution_count": 13,
   "id": "42952091",
   "metadata": {},
   "outputs": [
    {
     "name": "stdout",
     "output_type": "stream",
     "text": [
      "Found words: ['fox', 'dog']\n"
     ]
    }
   ],
   "source": [
    "def search_words(text, searched_words):\n",
    "    found_words = []\n",
    "    for word in searched_words:\n",
    "        if word in text:\n",
    "            found_words.append(word)\n",
    "    return found_words\n",
    "\n",
    "sample_text = 'The quick brown fox jumps over the lazy dog.'\n",
    "searched_words = ['fox', 'dog', 'horse']\n",
    "\n",
    "found_words = search_words(sample_text, searched_words)\n",
    "\n",
    "if found_words:\n",
    "    print(\"Found words:\", found_words)\n",
    "else:\n",
    "    print(\"No words found.\")\n"
   ]
  },
  {
   "cell_type": "markdown",
   "id": "1c5714cd",
   "metadata": {},
   "source": [
    "# Question 14- Write a regular expression in python to match a date string in the form of Month name followed by day number and year stored in a text file.\n",
    "Sample text : 'On August 15th 1947 that India was declared independent from British colonialism, and the reins of control were handed over to the leaders of the Country’.\n",
    "Expected Output-August 15th 1947\n",
    "Note- Store given sample text in the text file and then extract the date string asked format.\n",
    "\n"
   ]
  },
  {
   "cell_type": "code",
   "execution_count": null,
   "id": "5d25faaf",
   "metadata": {},
   "outputs": [],
   "source": [
    "import re\n",
    "\n",
    "# Read the content of the text file\n",
    "with open('sample.txt', 'r') as file:\n",
    "    text = file.read()\n",
    "\n",
    "# Define the regular expression pattern\n",
    "pattern = r'\\b(?:January|February|March|April|May|June|July|August|September|October|November|December)\\s+\\d{1,2}(?:st|nd|rd|th)?\\s+\\d{4}\\b'\n",
    "\n",
    "# Search for the pattern in the text\n",
    "match = re.search(pattern, text)\n",
    "\n",
    "# Extract and print the matched date string\n",
    "if match:\n",
    "    date_string = match.group(0)\n",
    "    print(\"Extracted Date String:\", date_string)\n",
    "else:\n",
    "    print(\"Date string not found in the text.\")\n"
   ]
  },
  {
   "cell_type": "markdown",
   "id": "36f294fa",
   "metadata": {},
   "source": [
    "# Question 16- Write a Python program to search a literals string in a string and also find the location within the original string where the pattern occurs\n",
    "Sample text : 'The quick brown fox jumps over the lazy dog.'\n",
    "Searched words : 'fox'\n"
   ]
  },
  {
   "cell_type": "code",
   "execution_count": 16,
   "id": "c3103885",
   "metadata": {},
   "outputs": [
    {
     "name": "stdout",
     "output_type": "stream",
     "text": [
      "'fox' found at position(s): [16]\n"
     ]
    }
   ],
   "source": [
    "def find_pattern_locations(main_string, pattern):\n",
    "    locations = []\n",
    "    start = 0\n",
    "    \n",
    "    while start < len(main_string):\n",
    "        index = main_string.find(pattern, start)\n",
    "        if index == -1:\n",
    "            break\n",
    "        locations.append(index)\n",
    "        start = index + 1\n",
    "    \n",
    "    return locations\n",
    "\n",
    "sample_text = 'The quick brown fox jumps over the lazy dog.'\n",
    "searched_word = 'fox'\n",
    "\n",
    "pattern_locations = find_pattern_locations(sample_text, searched_word)\n",
    "\n",
    "if pattern_locations:\n",
    "    print(f\"'{searched_word}' found at position(s): {pattern_locations}\")\n",
    "else:\n",
    "    print(f\"'{searched_word}' not found in the text.\")\n"
   ]
  },
  {
   "cell_type": "markdown",
   "id": "b5914120",
   "metadata": {},
   "source": [
    "# Question 17- Write a Python program to find the substrings within a string.\n",
    "Sample text : 'Python exercises, PHP exercises, C# exercises'\n",
    "Pattern : 'exercises'.\n"
   ]
  },
  {
   "cell_type": "code",
   "execution_count": 17,
   "id": "8de5175d",
   "metadata": {},
   "outputs": [
    {
     "name": "stdout",
     "output_type": "stream",
     "text": [
      "Substrings found: ['exercises', 'exercises', 'exercises']\n"
     ]
    }
   ],
   "source": [
    "import re\n",
    "\n",
    "def find_substrings(text, pattern):\n",
    "    matches = re.finditer(pattern, text)\n",
    "    substrings = [match.group() for match in matches]\n",
    "    return substrings\n",
    "\n",
    "sample_text = 'Python exercises, PHP exercises, C# exercises'\n",
    "search_pattern = 'exercises'\n",
    "\n",
    "substrings = find_substrings(sample_text, search_pattern)\n",
    "print(\"Substrings found:\", substrings)\n"
   ]
  },
  {
   "cell_type": "markdown",
   "id": "a005cc49",
   "metadata": {},
   "source": [
    "# Question 26- Write a python program using RegEx to accept string ending with alphanumeric character.\n"
   ]
  },
  {
   "cell_type": "code",
   "execution_count": null,
   "id": "153af6e1",
   "metadata": {},
   "outputs": [],
   "source": [
    "import re\n",
    "\n",
    "def validate_string(input_string):\n",
    "    pattern = r'^.*[a-zA-Z0-9]$'\n",
    "    if re.match(pattern, input_string):\n",
    "        return True\n",
    "    else:\n",
    "        return False\n",
    "\n",
    "# Get input from the user\n",
    "user_input = input(\"Enter a string: \")\n",
    "\n",
    "# Validate the input\n",
    "if validate_string(user_input):\n",
    "    print(\"Input string ends with an alphanumeric character.\")\n",
    "else:\n",
    "    print(\"Input string does not end with an alphanumeric character.\")\n"
   ]
  },
  {
   "cell_type": "markdown",
   "id": "eed4e59b",
   "metadata": {},
   "source": [
    "# Question 20- Create a function in python to find all decimal numbers with a precision of 1 or 2 in a string.The use of the re.compile() method is mandatory.\n"
   ]
  },
  {
   "cell_type": "code",
   "execution_count": null,
   "id": "9c6a1ea4",
   "metadata": {},
   "outputs": [],
   "source": [
    "import re\n",
    "\n",
    "def find_decimal_numbers_with_precision(text):\n",
    "    pattern = re.compile(r'\\b\\d+(\\.\\d{1,2})?\\b')\n",
    "    decimal_numbers = pattern.findall(text)\n",
    "    return decimal_numbers\n",
    "\n",
    "# Example usage\n",
    "input_string = \"The price is $12.34 and the weight is 0.5 kg. The temperature is 25.00 degrees Celsius.\"\n",
    "decimal_numbers = find_decimal_numbers_with_precision(input_string)\n",
    "print(decimal_numbers)\n"
   ]
  },
  {
   "cell_type": "markdown",
   "id": "6bc8b286",
   "metadata": {},
   "source": [
    "# Question 21- Write a Python program to separate and print the numbers and their position of a given string.\n",
    "\n",
    "\n"
   ]
  },
  {
   "cell_type": "code",
   "execution_count": null,
   "id": "44875ba8",
   "metadata": {},
   "outputs": [],
   "source": [
    "def separate_numbers_and_positions(input_string):\n",
    "    numbers_and_positions = []\n",
    "    \n",
    "    for index, char in enumerate(input_string):\n",
    "        if char.isdigit():\n",
    "            numbers_and_positions.append((int(char), index))\n",
    "    \n",
    "    return numbers_and_positions\n",
    "\n",
    "# Get input from the user\n",
    "input_string = input(\"Enter a string: \")\n",
    "\n",
    "# Call the function and print the result\n",
    "result = separate_numbers_and_positions(input_string)\n",
    "print(\"Numbers and their positions:\")\n",
    "for number, position in result:\n",
    "    print(f\"Number: {number}, Position: {position}\")\n"
   ]
  },
  {
   "cell_type": "markdown",
   "id": "61e4def1",
   "metadata": {},
   "source": [
    "# Question 22- Write a regular expression in python program to extract maximum/largest numeric value from a string.\n",
    "Sample Text: 'My marks in each semester are: 947, 896, 926, 524, 734, 950, 642'\n",
    "Expected Output: 950\n",
    "\n"
   ]
  },
  {
   "cell_type": "code",
   "execution_count": null,
   "id": "8eac8cdf",
   "metadata": {},
   "outputs": [],
   "source": [
    "import re\n",
    "\n",
    "def extract_max_numeric_value(text):\n",
    "    numbers = re.findall(r'\\d+', text)\n",
    "    if numbers:\n",
    "        max_number = max(map(int, numbers))\n",
    "        return max_number\n",
    "    else:\n",
    "        return None\n",
    "\n",
    "sample_text = 'My marks in each semester are: 947, 896, 926, 524, 734, 950, 642'\n",
    "max_numeric_value = extract_max_numeric_value(sample_text)\n",
    "\n",
    "if max_numeric_value is not None:\n",
    "    print(f\"Maximum numeric value: {max_numeric_value}\")\n",
    "else:\n",
    "    print(\"No numeric values found in the input string.\")\n"
   ]
  },
  {
   "cell_type": "markdown",
   "id": "aba16919",
   "metadata": {},
   "source": [
    "# Question 23- Create a function in python to insert spaces between words starting with capital letters.\n",
    "Sample Text: “RegularExpressionIsAnImportantTopicInPython\"\n",
    "Expected Output:Regular Expression Is An Important Topic In Python\n"
   ]
  },
  {
   "cell_type": "code",
   "execution_count": null,
   "id": "03665fb6",
   "metadata": {},
   "outputs": [],
   "source": [
    "import re\n",
    "\n",
    "def insert_spaces(text):\n",
    "    # Use regular expression to find words starting with capital letters\n",
    "    pattern = r'(?<!^)(?=[A-Z])'\n",
    "    words = re.split(pattern, text)\n",
    "    \n",
    "    # Join the words with spaces and capitalize the first letter\n",
    "    result = ' '.join(words).capitalize()\n",
    "    \n",
    "    return result\n",
    "\n",
    "# Sample Text\n",
    "sample_text = \"RegularExpressionIsAnImportantTopicInPython\"\n",
    "\n",
    "# Call the function and print the result\n",
    "output = insert_spaces(sample_text)\n",
    "print(output)\n"
   ]
  },
  {
   "cell_type": "raw",
   "id": "013d92ad",
   "metadata": {},
   "source": [
    " regular expression is an important topic in python"
   ]
  },
  {
   "cell_type": "markdown",
   "id": "3a04379e",
   "metadata": {},
   "source": [
    "# Question 24-Python regex to find sequences of one upper case letter followed by lower case letters\n",
    "\n"
   ]
  },
  {
   "cell_type": "code",
   "execution_count": null,
   "id": "9a36f883",
   "metadata": {},
   "outputs": [],
   "source": [
    "import re\n",
    "\n",
    "text = \"Abc Def Ghi jKl Mno Pqrs TuV wxYz\"\n",
    "pattern = r'[A-Z][a-z]+'\n",
    "\n",
    "matches = re.findall(pattern, text)\n",
    "print(matches)\n"
   ]
  },
  {
   "cell_type": "markdown",
   "id": "45176038",
   "metadata": {},
   "source": [
    "# Question 25-Write a Python program to remove continuous duplicate words from Sentence using Regular Expression.\n",
    "Sample Text:\"Hello hello world world\"\n",
    "Expected Output: Hello hello world\n",
    "\n"
   ]
  },
  {
   "cell_type": "code",
   "execution_count": null,
   "id": "6c4f2c8a",
   "metadata": {},
   "outputs": [],
   "source": [
    "import re\n",
    "\n",
    "def remove_continuous_duplicates(sentence):\n",
    "    # Use a regular expression to find continuous duplicate words\n",
    "    pattern = r'\\b(\\w+)\\s+\\1\\b'\n",
    "    result = re.sub(pattern, r'\\1', sentence, flags=re.IGNORECASE)\n",
    "    return result\n",
    "\n",
    "sample_text = \"Hello hello world world\"\n",
    "output = remove_continuous_duplicates(sample_text)\n",
    "print(output)\n"
   ]
  },
  {
   "cell_type": "code",
   "execution_count": null,
   "id": "38d1f8e7",
   "metadata": {},
   "outputs": [],
   "source": [
    "Hello hello world\n"
   ]
  },
  {
   "cell_type": "markdown",
   "id": "8d485129",
   "metadata": {},
   "source": [
    "# Question 27-Write a python program using RegEx to extract the hashtags.\n",
    "Sample Text: \"\"\"RT @kapil_kausik: #Doltiwal I mean #xyzabc is \"hurt\" by #Demonetization as the same has rendered USELESS <ed><U+00A0><U+00BD><ed><U+00B1><U+0089> \"acquired funds\" No wo\"\"\"\n",
    "Expected Output:['#Doltiwal', '#xyzabc', '#Demonetization']\n",
    "\n"
   ]
  },
  {
   "cell_type": "code",
   "execution_count": null,
   "id": "ad5f2750",
   "metadata": {},
   "outputs": [],
   "source": [
    " import re\n",
    "\n",
    "sample_text = \"\"\"RT @kapil_kausik: #Doltiwal I mean #xyzabc is \"hurt\" by #Demonetization as the same has rendered USELESS <ed><U+00A0><U+00BD><ed><U+00B1><U+0089> \"acquired funds\" No wo\"\"\"\n",
    "\n",
    "# Define a regular expression pattern to match hashtags\n",
    "pattern = r'#\\w+'\n",
    "\n",
    "# Use re.findall() to extract hashtags from the sample text\n",
    "hashtags = re.findall(pattern, sample_text)\n",
    "\n",
    "print(\"Expected Output:\", hashtags)\n"
   ]
  },
  {
   "cell_type": "code",
   "execution_count": null,
   "id": "c17c3ffe",
   "metadata": {},
   "outputs": [],
   "source": [
    "Expected Output: ['#Doltiwal', '#xyzabc', '#Demonetization']\n"
   ]
  },
  {
   "cell_type": "markdown",
   "id": "59652436",
   "metadata": {},
   "source": [
    "# Question 28- Write a python program using RegEx to remove <U+..> like symbols\n",
    "Check the below sample text, there are strange symbols something of the sort <U+..> all over the place. You need to come up with a general Regex expression that will cover all such symbols.\n",
    "Sample Text: \"@Jags123456 Bharat band on 28??<ed><U+00A0><U+00BD><ed><U+00B8><U+0082>Those who  are protesting #demonetization  are all different party leaders\"\n",
    "Expected Output:@Jags123456 Bharat band on 28??<ed><ed>Those who  are protesting #demonetization  are all different party leaders\n"
   ]
  },
  {
   "cell_type": "code",
   "execution_count": null,
   "id": "2dfc85ba",
   "metadata": {},
   "outputs": [],
   "source": [
    "import re\n",
    "\n",
    "def remove_unicode_symbols(text):\n",
    "    pattern = r'<U\\+[A-F0-9]{4}>'\n",
    "    return re.sub(pattern, '', text)\n",
    "\n",
    "sample_text = \"@Jags123456 Bharat band on 28??<ed><U+00A0><U+00BD><ed><U+00B8><U+0082>Those who  are protesting #demonetization  are all different party leaders\"\n",
    "output = remove_unicode_symbols(sample_text)\n",
    "print(output)\n"
   ]
  },
  {
   "cell_type": "raw",
   "id": "5ce12546",
   "metadata": {},
   "source": [
    "@Jags123456 Bharat band on 28??<ed><ed>Those who  are protesting #demonetization  are all different party leaders"
   ]
  },
  {
   "cell_type": "markdown",
   "id": "da01e761",
   "metadata": {},
   "source": [
    "# Question 29- Write a python program to extract dates from the text stored in the text file.\n",
    "Sample Text:Ron was born on 12-09-1992 and he was admitted to school 15-12-1999.\n",
    "Note-Store this sample text in the file and then extract dates.\n"
   ]
  },
  {
   "cell_type": "code",
   "execution_count": null,
   "id": "94d95f9d",
   "metadata": {},
   "outputs": [],
   "source": [
    "import re\n",
    "\n",
    "def extract_dates_from_text(filename):\n",
    "    with open(filename, 'r') as file:\n",
    "        text = file.read()\n",
    "    \n",
    "    date_pattern = r'\\b\\d{2}-\\d{2}-\\d{4}\\b'\n",
    "    dates = re.findall(date_pattern, text)\n",
    "    \n",
    "    return dates\n",
    "\n",
    "filename = 'sample_text.txt'\n",
    "dates = extract_dates_from_text(filename)\n",
    "\n",
    "print(\"Extracted dates:\", dates)\n"
   ]
  },
  {
   "cell_type": "markdown",
   "id": "ae0fd3f1",
   "metadata": {},
   "source": [
    "# Question 30-Create a function inpython to remove all words from a string of length between 2 and 4.\n",
    "The use of the re.compile() method is mandatory.\n",
    "Sample Text:\"The following example creates an ArrayList with a capacity of 50 elements. 4 elements are then added to the ArrayList and the ArrayList is trimmed accordingly.\"\n",
    "Expected Output:following example creates ArrayList a capacity elements. 4 elements added ArrayListArrayList trimmed accordingly."
   ]
  },
  {
   "cell_type": "code",
   "execution_count": null,
   "id": "9b6f24f5",
   "metadata": {},
   "outputs": [],
   "source": [
    "import re\n",
    "\n",
    "def remove_words_between_length(text):\n",
    "    pattern = re.compile'\\b\\w{2,4}\\b'\n",
    "    result = pattern.sub('', text)\n",
    "    result = re.sub(r'\\s+', ' ', result)  # Remove extra spaces\n",
    "    return result.strip()\n",
    "\n",
    "sample_text = \"The following example creates an ArrayList with a capacity of 50 elements. 4 elements are then added to the ArrayList and the ArrayList is trimmed accordingly.\"\n",
    "output = remove_words_between_length(sample_text)\n",
    "print(output)\n",
    "\n"
   ]
  },
  {
   "cell_type": "raw",
   "id": "ddefb52e",
   "metadata": {},
   "source": [
    "following example creates ArrayList a capacity elements. 4 elements added ArrayListArrayList trimmed accordingly.\n"
   ]
  }
 ],
 "metadata": {
  "kernelspec": {
   "display_name": "Python 3 (ipykernel)",
   "language": "python",
   "name": "python3"
  },
  "language_info": {
   "codemirror_mode": {
    "name": "ipython",
    "version": 3
   },
   "file_extension": ".py",
   "mimetype": "text/x-python",
   "name": "python",
   "nbconvert_exporter": "python",
   "pygments_lexer": "ipython3",
   "version": "3.9.13"
  }
 },
 "nbformat": 4,
 "nbformat_minor": 5
}
